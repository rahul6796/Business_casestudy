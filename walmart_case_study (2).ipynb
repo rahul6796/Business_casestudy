{
 "cells": [
  {
   "cell_type": "code",
   "execution_count": 1,
   "id": "ee63a2d2-fb59-4f36-a04b-8bbfad2a1e53",
   "metadata": {},
   "outputs": [],
   "source": [
    "import pandas as pd\n",
    "import numpy as np\n",
    "import seaborn as sns\n",
    "import matplotlib.pyplot as plt"
   ]
  },
  {
   "cell_type": "code",
   "execution_count": 2,
   "id": "9ad81007-05ba-48f8-b171-a19f90979916",
   "metadata": {
    "slideshow": {
     "slide_type": ""
    },
    "tags": []
   },
   "outputs": [
    {
     "data": {
      "text/html": [
       "<div>\n",
       "<style scoped>\n",
       "    .dataframe tbody tr th:only-of-type {\n",
       "        vertical-align: middle;\n",
       "    }\n",
       "\n",
       "    .dataframe tbody tr th {\n",
       "        vertical-align: top;\n",
       "    }\n",
       "\n",
       "    .dataframe thead th {\n",
       "        text-align: right;\n",
       "    }\n",
       "</style>\n",
       "<table border=\"1\" class=\"dataframe\">\n",
       "  <thead>\n",
       "    <tr style=\"text-align: right;\">\n",
       "      <th></th>\n",
       "      <th>User_ID</th>\n",
       "      <th>Product_ID</th>\n",
       "      <th>Gender</th>\n",
       "      <th>Age</th>\n",
       "      <th>Occupation</th>\n",
       "      <th>City_Category</th>\n",
       "      <th>Stay_In_Current_City_Years</th>\n",
       "      <th>Marital_Status</th>\n",
       "      <th>Product_Category</th>\n",
       "      <th>Purchase</th>\n",
       "    </tr>\n",
       "  </thead>\n",
       "  <tbody>\n",
       "    <tr>\n",
       "      <th>0</th>\n",
       "      <td>1000001</td>\n",
       "      <td>P00069042</td>\n",
       "      <td>F</td>\n",
       "      <td>0-17</td>\n",
       "      <td>10</td>\n",
       "      <td>A</td>\n",
       "      <td>2</td>\n",
       "      <td>0</td>\n",
       "      <td>3</td>\n",
       "      <td>8370</td>\n",
       "    </tr>\n",
       "    <tr>\n",
       "      <th>1</th>\n",
       "      <td>1000001</td>\n",
       "      <td>P00248942</td>\n",
       "      <td>F</td>\n",
       "      <td>0-17</td>\n",
       "      <td>10</td>\n",
       "      <td>A</td>\n",
       "      <td>2</td>\n",
       "      <td>0</td>\n",
       "      <td>1</td>\n",
       "      <td>15200</td>\n",
       "    </tr>\n",
       "    <tr>\n",
       "      <th>2</th>\n",
       "      <td>1000001</td>\n",
       "      <td>P00087842</td>\n",
       "      <td>F</td>\n",
       "      <td>0-17</td>\n",
       "      <td>10</td>\n",
       "      <td>A</td>\n",
       "      <td>2</td>\n",
       "      <td>0</td>\n",
       "      <td>12</td>\n",
       "      <td>1422</td>\n",
       "    </tr>\n",
       "    <tr>\n",
       "      <th>3</th>\n",
       "      <td>1000001</td>\n",
       "      <td>P00085442</td>\n",
       "      <td>F</td>\n",
       "      <td>0-17</td>\n",
       "      <td>10</td>\n",
       "      <td>A</td>\n",
       "      <td>2</td>\n",
       "      <td>0</td>\n",
       "      <td>12</td>\n",
       "      <td>1057</td>\n",
       "    </tr>\n",
       "    <tr>\n",
       "      <th>4</th>\n",
       "      <td>1000002</td>\n",
       "      <td>P00285442</td>\n",
       "      <td>M</td>\n",
       "      <td>55+</td>\n",
       "      <td>16</td>\n",
       "      <td>C</td>\n",
       "      <td>4+</td>\n",
       "      <td>0</td>\n",
       "      <td>8</td>\n",
       "      <td>7969</td>\n",
       "    </tr>\n",
       "  </tbody>\n",
       "</table>\n",
       "</div>"
      ],
      "text/plain": [
       "   User_ID Product_ID Gender   Age  Occupation City_Category  \\\n",
       "0  1000001  P00069042      F  0-17          10             A   \n",
       "1  1000001  P00248942      F  0-17          10             A   \n",
       "2  1000001  P00087842      F  0-17          10             A   \n",
       "3  1000001  P00085442      F  0-17          10             A   \n",
       "4  1000002  P00285442      M   55+          16             C   \n",
       "\n",
       "  Stay_In_Current_City_Years  Marital_Status  Product_Category  Purchase  \n",
       "0                          2               0                 3      8370  \n",
       "1                          2               0                 1     15200  \n",
       "2                          2               0                12      1422  \n",
       "3                          2               0                12      1057  \n",
       "4                         4+               0                 8      7969  "
      ]
     },
     "execution_count": 2,
     "metadata": {},
     "output_type": "execute_result"
    }
   ],
   "source": [
    "data = pd.read_csv('walmart_dataset.csv')\n",
    "data.head()"
   ]
  },
  {
   "cell_type": "markdown",
   "id": "47c2613b-93e4-452c-a0a7-076c28e3a216",
   "metadata": {},
   "source": [
    " 1 - shape of data.\n",
    " \n",
    " 2 - data types of all the attributes. \n",
    " \n",
    " 3 - conversion of categorical attributes to statistical summary.\n"
   ]
  },
  {
   "cell_type": "code",
   "execution_count": 3,
   "id": "8d46a556-de50-42c3-a66e-080dba370bbd",
   "metadata": {
    "slideshow": {
     "slide_type": ""
    },
    "tags": []
   },
   "outputs": [
    {
     "data": {
      "text/plain": [
       "(550068, 10)"
      ]
     },
     "execution_count": 3,
     "metadata": {},
     "output_type": "execute_result"
    }
   ],
   "source": [
    "data.shape"
   ]
  },
  {
   "cell_type": "markdown",
   "id": "3146627c-c926-4f2f-ab68-6eaf02ba0fdf",
   "metadata": {},
   "source": [
    "In this dataset having 550068 numbers of rows and 10 columns "
   ]
  },
  {
   "cell_type": "code",
   "execution_count": 4,
   "id": "3b93cbaa-e612-4287-877e-a4b06df65d78",
   "metadata": {},
   "outputs": [
    {
     "name": "stdout",
     "output_type": "stream",
     "text": [
      "<class 'pandas.core.frame.DataFrame'>\n",
      "RangeIndex: 550068 entries, 0 to 550067\n",
      "Data columns (total 10 columns):\n",
      " #   Column                      Non-Null Count   Dtype \n",
      "---  ------                      --------------   ----- \n",
      " 0   User_ID                     550068 non-null  int64 \n",
      " 1   Product_ID                  550068 non-null  object\n",
      " 2   Gender                      550068 non-null  object\n",
      " 3   Age                         550068 non-null  object\n",
      " 4   Occupation                  550068 non-null  int64 \n",
      " 5   City_Category               550068 non-null  object\n",
      " 6   Stay_In_Current_City_Years  550068 non-null  object\n",
      " 7   Marital_Status              550068 non-null  int64 \n",
      " 8   Product_Category            550068 non-null  int64 \n",
      " 9   Purchase                    550068 non-null  int64 \n",
      "dtypes: int64(5), object(5)\n",
      "memory usage: 42.0+ MB\n"
     ]
    }
   ],
   "source": [
    "data.info()"
   ]
  },
  {
   "cell_type": "markdown",
   "id": "e9788e97-3d79-4a27-ab17-5cace50dd30b",
   "metadata": {},
   "source": [
    "In this dataset $Marital_Status$, $Product_Category$, $Occupation$, $User_ID$, $Purchase$,\n",
    "\n",
    "there dtype is $int64$\n",
    "\n",
    "$Product_ID$, $Gender$, $Age$, $City_Category$, $Stay_In_Current_City_Years$ having dtype is $object$"
   ]
  },
  {
   "cell_type": "code",
   "execution_count": 5,
   "id": "031b8b30-ca3a-41f0-bf25-98ea0ff53d54",
   "metadata": {},
   "outputs": [
    {
     "data": {
      "text/html": [
       "<div>\n",
       "<style scoped>\n",
       "    .dataframe tbody tr th:only-of-type {\n",
       "        vertical-align: middle;\n",
       "    }\n",
       "\n",
       "    .dataframe tbody tr th {\n",
       "        vertical-align: top;\n",
       "    }\n",
       "\n",
       "    .dataframe thead th {\n",
       "        text-align: right;\n",
       "    }\n",
       "</style>\n",
       "<table border=\"1\" class=\"dataframe\">\n",
       "  <thead>\n",
       "    <tr style=\"text-align: right;\">\n",
       "      <th></th>\n",
       "      <th>User_ID</th>\n",
       "      <th>Occupation</th>\n",
       "      <th>Marital_Status</th>\n",
       "      <th>Product_Category</th>\n",
       "      <th>Purchase</th>\n",
       "    </tr>\n",
       "  </thead>\n",
       "  <tbody>\n",
       "    <tr>\n",
       "      <th>count</th>\n",
       "      <td>5.500680e+05</td>\n",
       "      <td>550068.000000</td>\n",
       "      <td>550068.000000</td>\n",
       "      <td>550068.000000</td>\n",
       "      <td>550068.000000</td>\n",
       "    </tr>\n",
       "    <tr>\n",
       "      <th>mean</th>\n",
       "      <td>1.003029e+06</td>\n",
       "      <td>8.076707</td>\n",
       "      <td>0.409653</td>\n",
       "      <td>5.404270</td>\n",
       "      <td>9263.968713</td>\n",
       "    </tr>\n",
       "    <tr>\n",
       "      <th>std</th>\n",
       "      <td>1.727592e+03</td>\n",
       "      <td>6.522660</td>\n",
       "      <td>0.491770</td>\n",
       "      <td>3.936211</td>\n",
       "      <td>5023.065394</td>\n",
       "    </tr>\n",
       "    <tr>\n",
       "      <th>min</th>\n",
       "      <td>1.000001e+06</td>\n",
       "      <td>0.000000</td>\n",
       "      <td>0.000000</td>\n",
       "      <td>1.000000</td>\n",
       "      <td>12.000000</td>\n",
       "    </tr>\n",
       "    <tr>\n",
       "      <th>25%</th>\n",
       "      <td>1.001516e+06</td>\n",
       "      <td>2.000000</td>\n",
       "      <td>0.000000</td>\n",
       "      <td>1.000000</td>\n",
       "      <td>5823.000000</td>\n",
       "    </tr>\n",
       "    <tr>\n",
       "      <th>50%</th>\n",
       "      <td>1.003077e+06</td>\n",
       "      <td>7.000000</td>\n",
       "      <td>0.000000</td>\n",
       "      <td>5.000000</td>\n",
       "      <td>8047.000000</td>\n",
       "    </tr>\n",
       "    <tr>\n",
       "      <th>75%</th>\n",
       "      <td>1.004478e+06</td>\n",
       "      <td>14.000000</td>\n",
       "      <td>1.000000</td>\n",
       "      <td>8.000000</td>\n",
       "      <td>12054.000000</td>\n",
       "    </tr>\n",
       "    <tr>\n",
       "      <th>max</th>\n",
       "      <td>1.006040e+06</td>\n",
       "      <td>20.000000</td>\n",
       "      <td>1.000000</td>\n",
       "      <td>20.000000</td>\n",
       "      <td>23961.000000</td>\n",
       "    </tr>\n",
       "  </tbody>\n",
       "</table>\n",
       "</div>"
      ],
      "text/plain": [
       "            User_ID     Occupation  Marital_Status  Product_Category  \\\n",
       "count  5.500680e+05  550068.000000   550068.000000     550068.000000   \n",
       "mean   1.003029e+06       8.076707        0.409653          5.404270   \n",
       "std    1.727592e+03       6.522660        0.491770          3.936211   \n",
       "min    1.000001e+06       0.000000        0.000000          1.000000   \n",
       "25%    1.001516e+06       2.000000        0.000000          1.000000   \n",
       "50%    1.003077e+06       7.000000        0.000000          5.000000   \n",
       "75%    1.004478e+06      14.000000        1.000000          8.000000   \n",
       "max    1.006040e+06      20.000000        1.000000         20.000000   \n",
       "\n",
       "            Purchase  \n",
       "count  550068.000000  \n",
       "mean     9263.968713  \n",
       "std      5023.065394  \n",
       "min        12.000000  \n",
       "25%      5823.000000  \n",
       "50%      8047.000000  \n",
       "75%     12054.000000  \n",
       "max     23961.000000  "
      ]
     },
     "execution_count": 5,
     "metadata": {},
     "output_type": "execute_result"
    }
   ],
   "source": [
    "data.describe()"
   ]
  },
  {
   "cell_type": "code",
   "execution_count": 6,
   "id": "b099aa4b-852e-46a3-acb6-2ddd41fff949",
   "metadata": {},
   "outputs": [
    {
     "data": {
      "text/plain": [
       "User_ID                       0\n",
       "Product_ID                    0\n",
       "Gender                        0\n",
       "Age                           0\n",
       "Occupation                    0\n",
       "City_Category                 0\n",
       "Stay_In_Current_City_Years    0\n",
       "Marital_Status                0\n",
       "Product_Category              0\n",
       "Purchase                      0\n",
       "dtype: int64"
      ]
     },
     "execution_count": 6,
     "metadata": {},
     "output_type": "execute_result"
    }
   ],
   "source": [
    "# Checking for null values:\n",
    "data.isna().sum()"
   ]
  },
  {
   "cell_type": "markdown",
   "id": "a206e10b-44be-427e-9a73-b601cb48cf90",
   "metadata": {},
   "source": [
    "In this given dataset no null value contain columns."
   ]
  },
  {
   "cell_type": "code",
   "execution_count": 7,
   "id": "7fdb2de7-2cc6-4329-b5fc-6af75ee239cd",
   "metadata": {},
   "outputs": [
    {
     "data": {
      "text/plain": [
       "User_ID                        5891\n",
       "Product_ID                     3631\n",
       "Gender                            2\n",
       "Age                               7\n",
       "Occupation                       21\n",
       "City_Category                     3\n",
       "Stay_In_Current_City_Years        5\n",
       "Marital_Status                    2\n",
       "Product_Category                 20\n",
       "Purchase                      18105\n",
       "dtype: int64"
      ]
     },
     "execution_count": 7,
     "metadata": {},
     "output_type": "execute_result"
    }
   ],
   "source": [
    "# checking of each and every column contain unique values:\n",
    "data.nunique()"
   ]
  },
  {
   "cell_type": "markdown",
   "id": "1aad6c8a-4c58-4729-a1e5-13e5404ca63f",
   "metadata": {},
   "source": [
    "you can see each and every column contain their own unique values:"
   ]
  },
  {
   "cell_type": "markdown",
   "id": "688f8e6d-3cf5-4fb2-a7b4-2f431ef9e3df",
   "metadata": {},
   "source": [
    "# Visual Analysis - Univariate"
   ]
  },
  {
   "cell_type": "code",
   "execution_count": 8,
   "id": "dd1c34aa-be57-4d42-b33d-99d0db0dfba6",
   "metadata": {},
   "outputs": [
    {
     "name": "stdout",
     "output_type": "stream",
     "text": [
      "<class 'pandas.core.frame.DataFrame'>\n",
      "RangeIndex: 550068 entries, 0 to 550067\n",
      "Data columns (total 10 columns):\n",
      " #   Column                      Non-Null Count   Dtype \n",
      "---  ------                      --------------   ----- \n",
      " 0   User_ID                     550068 non-null  int64 \n",
      " 1   Product_ID                  550068 non-null  object\n",
      " 2   Gender                      550068 non-null  object\n",
      " 3   Age                         550068 non-null  object\n",
      " 4   Occupation                  550068 non-null  int64 \n",
      " 5   City_Category               550068 non-null  object\n",
      " 6   Stay_In_Current_City_Years  550068 non-null  object\n",
      " 7   Marital_Status              550068 non-null  int64 \n",
      " 8   Product_Category            550068 non-null  int64 \n",
      " 9   Purchase                    550068 non-null  int64 \n",
      "dtypes: int64(5), object(5)\n",
      "memory usage: 42.0+ MB\n"
     ]
    }
   ],
   "source": [
    "data.info()"
   ]
  },
  {
   "cell_type": "markdown",
   "id": "7be2ccee-01f6-4d4f-8214-f54e23c88232",
   "metadata": {},
   "source": [
    "# Continuous Visualization"
   ]
  },
  {
   "cell_type": "markdown",
   "id": "cf42eab5-5b35-4cf3-8e52-2dd685c1249c",
   "metadata": {},
   "source": [
    "# Occupation"
   ]
  },
  {
   "cell_type": "code",
   "execution_count": 9,
   "id": "0f466030-c80d-43db-9264-f38fc6f5e6d2",
   "metadata": {},
   "outputs": [
    {
     "data": {
      "image/png": "[encoded data removed]",
      "text/plain": [
       "<Figure size 432x288 with 1 Axes>"
      ]
     },
     "metadata": {
      "needs_background": "light"
     },
     "output_type": "display_data"
    }
   ],
   "source": [
    "sns.histplot(data['Occupation'])\n",
    "plt.show()"
   ]
  },
  {
   "cell_type": "code",
   "execution_count": 10,
   "id": "95eaeddb-a311-4af3-b55d-428464135f75",
   "metadata": {},
   "outputs": [
    {
     "data": {
      "text/html": [
       "<div>\n",
       "<style scoped>\n",
       "    .dataframe tbody tr th:only-of-type {\n",
       "        vertical-align: middle;\n",
       "    }\n",
       "\n",
       "    .dataframe tbody tr th {\n",
       "        vertical-align: top;\n",
       "    }\n",
       "\n",
       "    .dataframe thead th {\n",
       "        text-align: right;\n",
       "    }\n",
       "</style>\n",
       "<table border=\"1\" class=\"dataframe\">\n",
       "  <thead>\n",
       "    <tr style=\"text-align: right;\">\n",
       "      <th></th>\n",
       "      <th>User_ID</th>\n",
       "      <th>Product_ID</th>\n",
       "      <th>Gender</th>\n",
       "      <th>Age</th>\n",
       "      <th>Occupation</th>\n",
       "      <th>City_Category</th>\n",
       "      <th>Stay_In_Current_City_Years</th>\n",
       "      <th>Marital_Status</th>\n",
       "      <th>Product_Category</th>\n",
       "      <th>Purchase</th>\n",
       "    </tr>\n",
       "  </thead>\n",
       "  <tbody>\n",
       "    <tr>\n",
       "      <th>0</th>\n",
       "      <td>1000001</td>\n",
       "      <td>P00069042</td>\n",
       "      <td>F</td>\n",
       "      <td>0-17</td>\n",
       "      <td>10</td>\n",
       "      <td>A</td>\n",
       "      <td>2</td>\n",
       "      <td>0</td>\n",
       "      <td>3</td>\n",
       "      <td>8370</td>\n",
       "    </tr>\n",
       "    <tr>\n",
       "      <th>1</th>\n",
       "      <td>1000001</td>\n",
       "      <td>P00248942</td>\n",
       "      <td>F</td>\n",
       "      <td>0-17</td>\n",
       "      <td>10</td>\n",
       "      <td>A</td>\n",
       "      <td>2</td>\n",
       "      <td>0</td>\n",
       "      <td>1</td>\n",
       "      <td>15200</td>\n",
       "    </tr>\n",
       "    <tr>\n",
       "      <th>2</th>\n",
       "      <td>1000001</td>\n",
       "      <td>P00087842</td>\n",
       "      <td>F</td>\n",
       "      <td>0-17</td>\n",
       "      <td>10</td>\n",
       "      <td>A</td>\n",
       "      <td>2</td>\n",
       "      <td>0</td>\n",
       "      <td>12</td>\n",
       "      <td>1422</td>\n",
       "    </tr>\n",
       "    <tr>\n",
       "      <th>3</th>\n",
       "      <td>1000001</td>\n",
       "      <td>P00085442</td>\n",
       "      <td>F</td>\n",
       "      <td>0-17</td>\n",
       "      <td>10</td>\n",
       "      <td>A</td>\n",
       "      <td>2</td>\n",
       "      <td>0</td>\n",
       "      <td>12</td>\n",
       "      <td>1057</td>\n",
       "    </tr>\n",
       "    <tr>\n",
       "      <th>4</th>\n",
       "      <td>1000002</td>\n",
       "      <td>P00285442</td>\n",
       "      <td>M</td>\n",
       "      <td>55+</td>\n",
       "      <td>16</td>\n",
       "      <td>C</td>\n",
       "      <td>4+</td>\n",
       "      <td>0</td>\n",
       "      <td>8</td>\n",
       "      <td>7969</td>\n",
       "    </tr>\n",
       "  </tbody>\n",
       "</table>\n",
       "</div>"
      ],
      "text/plain": [
       "   User_ID Product_ID Gender   Age  Occupation City_Category  \\\n",
       "0  1000001  P00069042      F  0-17          10             A   \n",
       "1  1000001  P00248942      F  0-17          10             A   \n",
       "2  1000001  P00087842      F  0-17          10             A   \n",
       "3  1000001  P00085442      F  0-17          10             A   \n",
       "4  1000002  P00285442      M   55+          16             C   \n",
       "\n",
       "  Stay_In_Current_City_Years  Marital_Status  Product_Category  Purchase  \n",
       "0                          2               0                 3      8370  \n",
       "1                          2               0                 1     15200  \n",
       "2                          2               0                12      1422  \n",
       "3                          2               0                12      1057  \n",
       "4                         4+               0                 8      7969  "
      ]
     },
     "execution_count": 10,
     "metadata": {},
     "output_type": "execute_result"
    }
   ],
   "source": [
    "data.head()"
   ]
  },
  {
   "cell_type": "code",
   "execution_count": 11,
   "id": "48fcd390-8612-447c-82eb-c8f5a697dc7b",
   "metadata": {},
   "outputs": [
    {
     "data": {
      "text/plain": [
       "<AxesSubplot:xlabel='Product_Category', ylabel='Count'>"
      ]
     },
     "execution_count": 11,
     "metadata": {},
     "output_type": "execute_result"
    },
    {
     "data": {
      "image/png": "[encoded data removed]",
      "text/plain": [
       "<Figure size 1008x360 with 1 Axes>"
      ]
     },
     "metadata": {
      "needs_background": "light"
     },
     "output_type": "display_data"
    }
   ],
   "source": [
    "plt.figure(figsize=(14, 5))\n",
    "sns.histplot(data['Product_Category'])"
   ]
  },
  {
   "cell_type": "markdown",
   "id": "14cf2f6f",
   "metadata": {},
   "source": [
    "you can see most of product category lies between 1 to 8 "
   ]
  },
  {
   "cell_type": "code",
   "execution_count": 12,
   "id": "b95feb01-261b-4f49-9e1f-ec969721fe70",
   "metadata": {},
   "outputs": [
    {
     "data": {
      "image/png": "[encoded data removed]",
      "text/plain": [
       "<Figure size 1008x288 with 1 Axes>"
      ]
     },
     "metadata": {
      "needs_background": "light"
     },
     "output_type": "display_data"
    }
   ],
   "source": [
    "plt.figure(figsize = (14, 4))\n",
    "sns.histplot(data['Purchase'])\n",
    "plt.show()"
   ]
  },
  {
   "cell_type": "markdown",
   "id": "f6f8cbb6",
   "metadata": {},
   "source": [
    "In this Purchase of univariate analysis the most of purchase price lies between 4000 to 10000  "
   ]
  },
  {
   "cell_type": "code",
   "execution_count": null,
   "id": "6b9a9696-d3bb-428e-9dcb-f214907df21a",
   "metadata": {},
   "outputs": [],
   "source": []
  },
  {
   "cell_type": "markdown",
   "id": "df4e5d33-0983-4b73-9425-2f06258dcc7c",
   "metadata": {},
   "source": [
    "# categorical visualization"
   ]
  },
  {
   "cell_type": "code",
   "execution_count": 13,
   "id": "02348be9-8fa8-4db1-9054-4d534eea696e",
   "metadata": {},
   "outputs": [
    {
     "data": {
      "text/html": [
       "<div>\n",
       "<style scoped>\n",
       "    .dataframe tbody tr th:only-of-type {\n",
       "        vertical-align: middle;\n",
       "    }\n",
       "\n",
       "    .dataframe tbody tr th {\n",
       "        vertical-align: top;\n",
       "    }\n",
       "\n",
       "    .dataframe thead th {\n",
       "        text-align: right;\n",
       "    }\n",
       "</style>\n",
       "<table border=\"1\" class=\"dataframe\">\n",
       "  <thead>\n",
       "    <tr style=\"text-align: right;\">\n",
       "      <th></th>\n",
       "      <th>User_ID</th>\n",
       "      <th>Product_ID</th>\n",
       "      <th>Gender</th>\n",
       "      <th>Age</th>\n",
       "      <th>Occupation</th>\n",
       "      <th>City_Category</th>\n",
       "      <th>Stay_In_Current_City_Years</th>\n",
       "      <th>Marital_Status</th>\n",
       "      <th>Product_Category</th>\n",
       "      <th>Purchase</th>\n",
       "    </tr>\n",
       "  </thead>\n",
       "  <tbody>\n",
       "    <tr>\n",
       "      <th>0</th>\n",
       "      <td>1000001</td>\n",
       "      <td>P00069042</td>\n",
       "      <td>F</td>\n",
       "      <td>0-17</td>\n",
       "      <td>10</td>\n",
       "      <td>A</td>\n",
       "      <td>2</td>\n",
       "      <td>0</td>\n",
       "      <td>3</td>\n",
       "      <td>8370</td>\n",
       "    </tr>\n",
       "    <tr>\n",
       "      <th>1</th>\n",
       "      <td>1000001</td>\n",
       "      <td>P00248942</td>\n",
       "      <td>F</td>\n",
       "      <td>0-17</td>\n",
       "      <td>10</td>\n",
       "      <td>A</td>\n",
       "      <td>2</td>\n",
       "      <td>0</td>\n",
       "      <td>1</td>\n",
       "      <td>15200</td>\n",
       "    </tr>\n",
       "    <tr>\n",
       "      <th>2</th>\n",
       "      <td>1000001</td>\n",
       "      <td>P00087842</td>\n",
       "      <td>F</td>\n",
       "      <td>0-17</td>\n",
       "      <td>10</td>\n",
       "      <td>A</td>\n",
       "      <td>2</td>\n",
       "      <td>0</td>\n",
       "      <td>12</td>\n",
       "      <td>1422</td>\n",
       "    </tr>\n",
       "    <tr>\n",
       "      <th>3</th>\n",
       "      <td>1000001</td>\n",
       "      <td>P00085442</td>\n",
       "      <td>F</td>\n",
       "      <td>0-17</td>\n",
       "      <td>10</td>\n",
       "      <td>A</td>\n",
       "      <td>2</td>\n",
       "      <td>0</td>\n",
       "      <td>12</td>\n",
       "      <td>1057</td>\n",
       "    </tr>\n",
       "    <tr>\n",
       "      <th>4</th>\n",
       "      <td>1000002</td>\n",
       "      <td>P00285442</td>\n",
       "      <td>M</td>\n",
       "      <td>55+</td>\n",
       "      <td>16</td>\n",
       "      <td>C</td>\n",
       "      <td>4+</td>\n",
       "      <td>0</td>\n",
       "      <td>8</td>\n",
       "      <td>7969</td>\n",
       "    </tr>\n",
       "  </tbody>\n",
       "</table>\n",
       "</div>"
      ],
      "text/plain": [
       "   User_ID Product_ID Gender   Age  Occupation City_Category  \\\n",
       "0  1000001  P00069042      F  0-17          10             A   \n",
       "1  1000001  P00248942      F  0-17          10             A   \n",
       "2  1000001  P00087842      F  0-17          10             A   \n",
       "3  1000001  P00085442      F  0-17          10             A   \n",
       "4  1000002  P00285442      M   55+          16             C   \n",
       "\n",
       "  Stay_In_Current_City_Years  Marital_Status  Product_Category  Purchase  \n",
       "0                          2               0                 3      8370  \n",
       "1                          2               0                 1     15200  \n",
       "2                          2               0                12      1422  \n",
       "3                          2               0                12      1057  \n",
       "4                         4+               0                 8      7969  "
      ]
     },
     "execution_count": 13,
     "metadata": {},
     "output_type": "execute_result"
    }
   ],
   "source": [
    "data.head()"
   ]
  },
  {
   "cell_type": "code",
   "execution_count": 14,
   "id": "2d8785df",
   "metadata": {},
   "outputs": [
    {
     "name": "stdout",
     "output_type": "stream",
     "text": [
      "<class 'pandas.core.frame.DataFrame'>\n",
      "RangeIndex: 550068 entries, 0 to 550067\n",
      "Data columns (total 10 columns):\n",
      " #   Column                      Non-Null Count   Dtype \n",
      "---  ------                      --------------   ----- \n",
      " 0   User_ID                     550068 non-null  int64 \n",
      " 1   Product_ID                  550068 non-null  object\n",
      " 2   Gender                      550068 non-null  object\n",
      " 3   Age                         550068 non-null  object\n",
      " 4   Occupation                  550068 non-null  int64 \n",
      " 5   City_Category               550068 non-null  object\n",
      " 6   Stay_In_Current_City_Years  550068 non-null  object\n",
      " 7   Marital_Status              550068 non-null  int64 \n",
      " 8   Product_Category            550068 non-null  int64 \n",
      " 9   Purchase                    550068 non-null  int64 \n",
      "dtypes: int64(5), object(5)\n",
      "memory usage: 42.0+ MB\n"
     ]
    }
   ],
   "source": [
    "data.info()"
   ]
  },
  {
   "cell_type": "code",
   "execution_count": 15,
   "id": "e41bb094-8407-407c-a610-bd8cab555fb7",
   "metadata": {},
   "outputs": [
    {
     "name": "stderr",
     "output_type": "stream",
     "text": [
      "/home/rahul/anaconda3/lib/python3.9/site-packages/seaborn/_decorators.py:36: FutureWarning: Pass the following variable as a keyword arg: x. From version 0.12, the only valid positional argument will be `data`, and passing other arguments without an explicit keyword will result in an error or misinterpretation.\n",
      "  warnings.warn(\n"
     ]
    },
    {
     "data": {
      "image/png": "[encoded data removed]",
      "text/plain": [
       "<Figure size 432x288 with 1 Axes>"
      ]
     },
     "metadata": {
      "needs_background": "light"
     },
     "output_type": "display_data"
    }
   ],
   "source": [
    "sns.countplot(data['Gender'])\n",
    "plt.show()"
   ]
  },
  {
   "cell_type": "code",
   "execution_count": 16,
   "id": "ba439d11",
   "metadata": {},
   "outputs": [
    {
     "data": {
      "text/plain": [
       "M    414259\n",
       "F    135809\n",
       "Name: Gender, dtype: int64"
      ]
     },
     "execution_count": 16,
     "metadata": {},
     "output_type": "execute_result"
    }
   ],
   "source": [
    "data['Gender'].value_counts()"
   ]
  },
  {
   "cell_type": "markdown",
   "id": "c0e6a631",
   "metadata": {},
   "source": [
    "in this categorical univariate analysis then number of Males is higher than the number of Females"
   ]
  },
  {
   "cell_type": "code",
   "execution_count": 17,
   "id": "21d69fe0",
   "metadata": {},
   "outputs": [
    {
     "name": "stderr",
     "output_type": "stream",
     "text": [
      "/home/rahul/anaconda3/lib/python3.9/site-packages/seaborn/_decorators.py:36: FutureWarning: Pass the following variable as a keyword arg: x. From version 0.12, the only valid positional argument will be `data`, and passing other arguments without an explicit keyword will result in an error or misinterpretation.\n",
      "  warnings.warn(\n"
     ]
    },
    {
     "data": {
      "image/png": "[encoded data removed]",
      "text/plain": [
       "<Figure size 1008x288 with 1 Axes>"
      ]
     },
     "metadata": {
      "needs_background": "light"
     },
     "output_type": "display_data"
    }
   ],
   "source": [
    "plt.figure(figsize = (14, 4))\n",
    "sns.countplot(data['City_Category'])\n",
    "plt.show()"
   ]
  },
  {
   "cell_type": "code",
   "execution_count": 18,
   "id": "00be7d04",
   "metadata": {},
   "outputs": [
    {
     "data": {
      "text/plain": [
       "B    231173\n",
       "C    171175\n",
       "A    147720\n",
       "Name: City_Category, dtype: int64"
      ]
     },
     "execution_count": 18,
     "metadata": {},
     "output_type": "execute_result"
    }
   ],
   "source": [
    "data['City_Category'].value_counts()"
   ]
  },
  {
   "cell_type": "markdown",
   "id": "e7f97130",
   "metadata": {},
   "source": [
    "In this city_category of univariate analysis the B category is higher than the category A and C."
   ]
  },
  {
   "cell_type": "code",
   "execution_count": 19,
   "id": "03254475",
   "metadata": {},
   "outputs": [
    {
     "name": "stderr",
     "output_type": "stream",
     "text": [
      "/home/rahul/anaconda3/lib/python3.9/site-packages/seaborn/_decorators.py:36: FutureWarning: Pass the following variable as a keyword arg: x. From version 0.12, the only valid positional argument will be `data`, and passing other arguments without an explicit keyword will result in an error or misinterpretation.\n",
      "  warnings.warn(\n"
     ]
    },
    {
     "data": {
      "image/png": "[encoded data removed]",
      "text/plain": [
       "<Figure size 1008x288 with 1 Axes>"
      ]
     },
     "metadata": {
      "needs_background": "light"
     },
     "output_type": "display_data"
    }
   ],
   "source": [
    "plt.figure(figsize=(14, 4))\n",
    "sns.countplot(data['Age'])\n",
    "plt.show()"
   ]
  },
  {
   "cell_type": "code",
   "execution_count": 20,
   "id": "c8d7911a",
   "metadata": {},
   "outputs": [
    {
     "data": {
      "text/plain": [
       "26-35    219587\n",
       "36-45    110013\n",
       "18-25     99660\n",
       "46-50     45701\n",
       "51-55     38501\n",
       "55+       21504\n",
       "0-17      15102\n",
       "Name: Age, dtype: int64"
      ]
     },
     "execution_count": 20,
     "metadata": {},
     "output_type": "execute_result"
    }
   ],
   "source": [
    "data['Age'].value_counts()"
   ]
  },
  {
   "cell_type": "code",
   "execution_count": 21,
   "id": "c2d68892",
   "metadata": {},
   "outputs": [
    {
     "name": "stderr",
     "output_type": "stream",
     "text": [
      "/home/rahul/anaconda3/lib/python3.9/site-packages/seaborn/_decorators.py:36: FutureWarning: Pass the following variable as a keyword arg: x. From version 0.12, the only valid positional argument will be `data`, and passing other arguments without an explicit keyword will result in an error or misinterpretation.\n",
      "  warnings.warn(\n"
     ]
    },
    {
     "data": {
      "image/png": "[encoded data removed]",
      "text/plain": [
       "<Figure size 1008x360 with 1 Axes>"
      ]
     },
     "metadata": {
      "needs_background": "light"
     },
     "output_type": "display_data"
    }
   ],
   "source": [
    "plt.figure(figsize = (14, 5))\n",
    "sns.countplot(data['Stay_In_Current_City_Years'])\n",
    "plt.show()"
   ]
  },
  {
   "cell_type": "code",
   "execution_count": 22,
   "id": "317e9f6c",
   "metadata": {},
   "outputs": [
    {
     "data": {
      "text/plain": [
       "1     193821\n",
       "2     101838\n",
       "3      95285\n",
       "4+     84726\n",
       "0      74398\n",
       "Name: Stay_In_Current_City_Years, dtype: int64"
      ]
     },
     "execution_count": 22,
     "metadata": {},
     "output_type": "execute_result"
    }
   ],
   "source": [
    "data['Stay_In_Current_City_Years'].value_counts()"
   ]
  },
  {
   "cell_type": "markdown",
   "id": "70d84d15",
   "metadata": {},
   "source": [
    "In this unvariate analysis of Stay in current city years of 1 is higher than among all of them."
   ]
  },
  {
   "cell_type": "code",
   "execution_count": 23,
   "id": "1abcbcd6",
   "metadata": {},
   "outputs": [
    {
     "name": "stderr",
     "output_type": "stream",
     "text": [
      "/home/rahul/anaconda3/lib/python3.9/site-packages/seaborn/_decorators.py:36: FutureWarning: Pass the following variable as a keyword arg: x. From version 0.12, the only valid positional argument will be `data`, and passing other arguments without an explicit keyword will result in an error or misinterpretation.\n",
      "  warnings.warn(\n"
     ]
    },
    {
     "data": {
      "image/png": "[encoded data removed]",
      "text/plain": [
       "<Figure size 1008x360 with 1 Axes>"
      ]
     },
     "metadata": {
      "needs_background": "light"
     },
     "output_type": "display_data"
    }
   ],
   "source": [
    "plt.figure(figsize = (14, 5))\n",
    "sns.countplot(data['Product_Category'])\n",
    "plt.show()"
   ]
  },
  {
   "cell_type": "code",
   "execution_count": 24,
   "id": "303a8d27",
   "metadata": {},
   "outputs": [
    {
     "data": {
      "text/plain": [
       "5     150933\n",
       "1     140378\n",
       "8     113925\n",
       "11     24287\n",
       "2      23864\n",
       "6      20466\n",
       "3      20213\n",
       "4      11753\n",
       "16      9828\n",
       "15      6290\n",
       "13      5549\n",
       "10      5125\n",
       "12      3947\n",
       "7       3721\n",
       "18      3125\n",
       "20      2550\n",
       "19      1603\n",
       "14      1523\n",
       "17       578\n",
       "9        410\n",
       "Name: Product_Category, dtype: int64"
      ]
     },
     "execution_count": 24,
     "metadata": {},
     "output_type": "execute_result"
    }
   ],
   "source": [
    "data['Product_Category'].value_counts()"
   ]
  },
  {
   "cell_type": "markdown",
   "id": "c8e6df92",
   "metadata": {},
   "source": [
    "the product category 1, 5 and 8 having highest count of this Product Category."
   ]
  },
  {
   "cell_type": "code",
   "execution_count": 25,
   "id": "286eb591",
   "metadata": {},
   "outputs": [
    {
     "name": "stderr",
     "output_type": "stream",
     "text": [
      "/home/rahul/anaconda3/lib/python3.9/site-packages/seaborn/_decorators.py:36: FutureWarning: Pass the following variable as a keyword arg: x. From version 0.12, the only valid positional argument will be `data`, and passing other arguments without an explicit keyword will result in an error or misinterpretation.\n",
      "  warnings.warn(\n"
     ]
    },
    {
     "data": {
      "image/png": "[encoded data removed]",
      "text/plain": [
       "<Figure size 1008x360 with 1 Axes>"
      ]
     },
     "metadata": {
      "needs_background": "light"
     },
     "output_type": "display_data"
    }
   ],
   "source": [
    "plt.figure(figsize = (14, 5))\n",
    "sns.countplot(data['Marital_Status'])\n",
    "plt.show()"
   ]
  },
  {
   "cell_type": "code",
   "execution_count": 26,
   "id": "56221973",
   "metadata": {},
   "outputs": [
    {
     "data": {
      "text/plain": [
       "0    324731\n",
       "1    225337\n",
       "Name: Marital_Status, dtype: int64"
      ]
     },
     "execution_count": 26,
     "metadata": {},
     "output_type": "execute_result"
    }
   ],
   "source": [
    "data['Marital_Status'].value_counts()"
   ]
  },
  {
   "cell_type": "markdown",
   "id": "9bb8f40c",
   "metadata": {},
   "source": [
    "In this univariate of marital Status analysis having more number of non married. "
   ]
  },
  {
   "cell_type": "markdown",
   "id": "59c53cd8",
   "metadata": {},
   "source": [
    "# Bivariate Analysis:"
   ]
  },
  {
   "cell_type": "code",
   "execution_count": 27,
   "id": "07761774",
   "metadata": {},
   "outputs": [
    {
     "data": {
      "text/html": [
       "<div>\n",
       "<style scoped>\n",
       "    .dataframe tbody tr th:only-of-type {\n",
       "        vertical-align: middle;\n",
       "    }\n",
       "\n",
       "    .dataframe tbody tr th {\n",
       "        vertical-align: top;\n",
       "    }\n",
       "\n",
       "    .dataframe thead th {\n",
       "        text-align: right;\n",
       "    }\n",
       "</style>\n",
       "<table border=\"1\" class=\"dataframe\">\n",
       "  <thead>\n",
       "    <tr style=\"text-align: right;\">\n",
       "      <th></th>\n",
       "      <th>User_ID</th>\n",
       "      <th>Product_ID</th>\n",
       "      <th>Gender</th>\n",
       "      <th>Age</th>\n",
       "      <th>Occupation</th>\n",
       "      <th>City_Category</th>\n",
       "      <th>Stay_In_Current_City_Years</th>\n",
       "      <th>Marital_Status</th>\n",
       "      <th>Product_Category</th>\n",
       "      <th>Purchase</th>\n",
       "    </tr>\n",
       "  </thead>\n",
       "  <tbody>\n",
       "    <tr>\n",
       "      <th>0</th>\n",
       "      <td>1000001</td>\n",
       "      <td>P00069042</td>\n",
       "      <td>F</td>\n",
       "      <td>0-17</td>\n",
       "      <td>10</td>\n",
       "      <td>A</td>\n",
       "      <td>2</td>\n",
       "      <td>0</td>\n",
       "      <td>3</td>\n",
       "      <td>8370</td>\n",
       "    </tr>\n",
       "    <tr>\n",
       "      <th>1</th>\n",
       "      <td>1000001</td>\n",
       "      <td>P00248942</td>\n",
       "      <td>F</td>\n",
       "      <td>0-17</td>\n",
       "      <td>10</td>\n",
       "      <td>A</td>\n",
       "      <td>2</td>\n",
       "      <td>0</td>\n",
       "      <td>1</td>\n",
       "      <td>15200</td>\n",
       "    </tr>\n",
       "    <tr>\n",
       "      <th>2</th>\n",
       "      <td>1000001</td>\n",
       "      <td>P00087842</td>\n",
       "      <td>F</td>\n",
       "      <td>0-17</td>\n",
       "      <td>10</td>\n",
       "      <td>A</td>\n",
       "      <td>2</td>\n",
       "      <td>0</td>\n",
       "      <td>12</td>\n",
       "      <td>1422</td>\n",
       "    </tr>\n",
       "    <tr>\n",
       "      <th>3</th>\n",
       "      <td>1000001</td>\n",
       "      <td>P00085442</td>\n",
       "      <td>F</td>\n",
       "      <td>0-17</td>\n",
       "      <td>10</td>\n",
       "      <td>A</td>\n",
       "      <td>2</td>\n",
       "      <td>0</td>\n",
       "      <td>12</td>\n",
       "      <td>1057</td>\n",
       "    </tr>\n",
       "    <tr>\n",
       "      <th>4</th>\n",
       "      <td>1000002</td>\n",
       "      <td>P00285442</td>\n",
       "      <td>M</td>\n",
       "      <td>55+</td>\n",
       "      <td>16</td>\n",
       "      <td>C</td>\n",
       "      <td>4+</td>\n",
       "      <td>0</td>\n",
       "      <td>8</td>\n",
       "      <td>7969</td>\n",
       "    </tr>\n",
       "  </tbody>\n",
       "</table>\n",
       "</div>"
      ],
      "text/plain": [
       "   User_ID Product_ID Gender   Age  Occupation City_Category  \\\n",
       "0  1000001  P00069042      F  0-17          10             A   \n",
       "1  1000001  P00248942      F  0-17          10             A   \n",
       "2  1000001  P00087842      F  0-17          10             A   \n",
       "3  1000001  P00085442      F  0-17          10             A   \n",
       "4  1000002  P00285442      M   55+          16             C   \n",
       "\n",
       "  Stay_In_Current_City_Years  Marital_Status  Product_Category  Purchase  \n",
       "0                          2               0                 3      8370  \n",
       "1                          2               0                 1     15200  \n",
       "2                          2               0                12      1422  \n",
       "3                          2               0                12      1057  \n",
       "4                         4+               0                 8      7969  "
      ]
     },
     "execution_count": 27,
     "metadata": {},
     "output_type": "execute_result"
    }
   ],
   "source": [
    "data.head()"
   ]
  },
  {
   "cell_type": "code",
   "execution_count": 28,
   "id": "9b127448",
   "metadata": {},
   "outputs": [
    {
     "data": {
      "image/png": "[encoded data removed]",
      "text/plain": [
       "<Figure size 1080x360 with 1 Axes>"
      ]
     },
     "metadata": {
      "needs_background": "light"
     },
     "output_type": "display_data"
    }
   ],
   "source": [
    "plt.figure(figsize = (15, 5))\n",
    "sns.boxplot(y=data['Gender'], x = data['Purchase'], data=data)\n",
    "plt.show()"
   ]
  },
  {
   "cell_type": "code",
   "execution_count": 29,
   "id": "4565dff1",
   "metadata": {},
   "outputs": [],
   "source": [
    "#Outlier Detection "
   ]
  },
  {
   "cell_type": "markdown",
   "id": "b1ca1102",
   "metadata": {},
   "source": [
    "In this bivariate analysis you can see the outlier after 20000 purchase in Female and  22000 puchase in Male"
   ]
  },
  {
   "cell_type": "markdown",
   "id": "19031958",
   "metadata": {},
   "source": [
    "the purchase range of male if more than the female purchase."
   ]
  },
  {
   "cell_type": "code",
   "execution_count": 30,
   "id": "2d567108",
   "metadata": {},
   "outputs": [
    {
     "data": {
      "image/png": "[encoded data removed]",
      "text/plain": [
       "<Figure size 1080x360 with 1 Axes>"
      ]
     },
     "metadata": {
      "needs_background": "light"
     },
     "output_type": "display_data"
    }
   ],
   "source": [
    "plt.figure(figsize = (15, 5))\n",
    "sns.boxplot(y=data['Age'], x = data['Purchase'], data=data)\n",
    "plt.show()"
   ]
  },
  {
   "cell_type": "code",
   "execution_count": 31,
   "id": "fa720214",
   "metadata": {},
   "outputs": [],
   "source": [
    "#Outlier Detection "
   ]
  },
  {
   "cell_type": "markdown",
   "id": "8dbd893a",
   "metadata": {},
   "source": [
    "in this bivariate analysis Age vs Purchase in each age group 23000 purchase having outlier."
   ]
  },
  {
   "cell_type": "markdown",
   "id": "c55fe0f3",
   "metadata": {},
   "source": [
    "then mean of each age group purchase almost similar you can see this bivariate analysis."
   ]
  },
  {
   "cell_type": "code",
   "execution_count": 32,
   "id": "80bc6bd6",
   "metadata": {},
   "outputs": [
    {
     "data": {
      "image/png": "[encoded data removed]",
      "text/plain": [
       "<Figure size 1080x360 with 1 Axes>"
      ]
     },
     "metadata": {
      "needs_background": "light"
     },
     "output_type": "display_data"
    }
   ],
   "source": [
    "plt.figure(figsize = (15, 5))\n",
    "sns.boxplot(y=data['City_Category'], x = data['Purchase'], data=data)\n",
    "plt.show()"
   ]
  },
  {
   "cell_type": "markdown",
   "id": "cc755623",
   "metadata": {},
   "source": [
    "In the city A and B you can clearly see the outlier after 22000 purchase and city C having less outlier in \n",
    "compaire to A and B. "
   ]
  },
  {
   "cell_type": "markdown",
   "id": "6177f2ba",
   "metadata": {},
   "source": [
    "the mean of C city-category is higher than the A and B, and the maximum purchase range of city C having in compaire to A and B city-category."
   ]
  },
  {
   "cell_type": "code",
   "execution_count": 33,
   "id": "d7e5a5b4",
   "metadata": {},
   "outputs": [
    {
     "name": "stdout",
     "output_type": "stream",
     "text": [
      "<class 'pandas.core.frame.DataFrame'>\n",
      "RangeIndex: 550068 entries, 0 to 550067\n",
      "Data columns (total 10 columns):\n",
      " #   Column                      Non-Null Count   Dtype \n",
      "---  ------                      --------------   ----- \n",
      " 0   User_ID                     550068 non-null  int64 \n",
      " 1   Product_ID                  550068 non-null  object\n",
      " 2   Gender                      550068 non-null  object\n",
      " 3   Age                         550068 non-null  object\n",
      " 4   Occupation                  550068 non-null  int64 \n",
      " 5   City_Category               550068 non-null  object\n",
      " 6   Stay_In_Current_City_Years  550068 non-null  object\n",
      " 7   Marital_Status              550068 non-null  int64 \n",
      " 8   Product_Category            550068 non-null  int64 \n",
      " 9   Purchase                    550068 non-null  int64 \n",
      "dtypes: int64(5), object(5)\n",
      "memory usage: 42.0+ MB\n"
     ]
    }
   ],
   "source": [
    "data.info()"
   ]
  },
  {
   "cell_type": "code",
   "execution_count": 34,
   "id": "26450ab8",
   "metadata": {},
   "outputs": [
    {
     "data": {
      "image/png": "[encoded data removed]",
      "text/plain": [
       "<Figure size 1008x288 with 1 Axes>"
      ]
     },
     "metadata": {
      "needs_background": "light"
     },
     "output_type": "display_data"
    }
   ],
   "source": [
    "plt.figure(figsize = (14, 4))\n",
    "sns.boxplot(y = data['Gender'], x = data['Product_Category'], data=data)\n",
    "plt.show()"
   ]
  },
  {
   "cell_type": "markdown",
   "id": "f97bbbe2",
   "metadata": {},
   "source": [
    "1 -  you can see the outlier in both Gender for Product_Category.\n",
    "\n",
    "2 - mean of Both the Male and Female for Product_Category are same, but the male product category varies\n",
    "\n",
    "from 2.5 to  7.5."
   ]
  },
  {
   "cell_type": "code",
   "execution_count": 35,
   "id": "f727f928",
   "metadata": {},
   "outputs": [
    {
     "data": {
      "image/png": "[encoded data removed]",
      "text/plain": [
       "<Figure size 1080x288 with 1 Axes>"
      ]
     },
     "metadata": {
      "needs_background": "light"
     },
     "output_type": "display_data"
    }
   ],
   "source": [
    "plt.figure(figsize = (15, 4))\n",
    "sns.boxplot(y = data['Age'], x = data['Product_Category'], data=data)\n",
    "plt.show()"
   ]
  },
  {
   "cell_type": "markdown",
   "id": "ea9fb337",
   "metadata": {},
   "source": [
    "1 - outlier of product category in each age-group.\n",
    "\n",
    "2 - age group of 26-35, 36-45 and 18-25 having same range of product category."
   ]
  },
  {
   "cell_type": "code",
   "execution_count": 36,
   "id": "f967ade2",
   "metadata": {},
   "outputs": [
    {
     "data": {
      "image/png": "[encoded data removed]",
      "text/plain": [
       "<Figure size 1080x288 with 1 Axes>"
      ]
     },
     "metadata": {
      "needs_background": "light"
     },
     "output_type": "display_data"
    }
   ],
   "source": [
    "plt.figure(figsize = (15, 4))\n",
    "sns.boxplot(y = data['City_Category'], x = data['Product_Category'], data=data)\n",
    "plt.show()"
   ]
  },
  {
   "cell_type": "markdown",
   "id": "16ed11a8",
   "metadata": {},
   "source": [
    "1 - outlier in each city category with product category\n",
    "\n",
    "2 - mean of each city category are same with product category.\n"
   ]
  },
  {
   "cell_type": "code",
   "execution_count": 37,
   "id": "e0ca445d",
   "metadata": {},
   "outputs": [
    {
     "data": {
      "image/png": "[encoded data removed]",
      "text/plain": [
       "<Figure size 1080x288 with 1 Axes>"
      ]
     },
     "metadata": {
      "needs_background": "light"
     },
     "output_type": "display_data"
    }
   ],
   "source": [
    "plt.figure(figsize = (15, 4))\n",
    "sns.boxplot(y = data['Gender'], x = data['Product_Category'], data=data)\n",
    "plt.show()"
   ]
  },
  {
   "cell_type": "markdown",
   "id": "be96b12c",
   "metadata": {},
   "source": [
    "1 -  outlier lies in Female corresponding Product cagtegory after 16.\n",
    "\n",
    "2 - outlier lies in Male corresponding Product category after 18.\n"
   ]
  },
  {
   "cell_type": "markdown",
   "id": "5c08c835",
   "metadata": {},
   "source": [
    "# correlation with each and every columns which are given in dataset"
   ]
  },
  {
   "cell_type": "code",
   "execution_count": 38,
   "id": "1b92958d",
   "metadata": {},
   "outputs": [
    {
     "data": {
      "image/png": "[encoded data removed]",
      "text/plain": [
       "<Figure size 1008x288 with 2 Axes>"
      ]
     },
     "metadata": {
      "needs_background": "light"
     },
     "output_type": "display_data"
    }
   ],
   "source": [
    "plt.figure(figsize=(14, 4))\n",
    "sns.heatmap(data.corr(), annot=True)\n",
    "plt.show()"
   ]
  },
  {
   "cell_type": "markdown",
   "id": "77ec30fd",
   "metadata": {},
   "source": [
    "# Hypothesis Testing:"
   ]
  },
  {
   "cell_type": "markdown",
   "id": "8216c2ff",
   "metadata": {},
   "source": [
    "# Are women spending more money per transaction than men? Why or Why not?"
   ]
  },
  {
   "cell_type": "code",
   "execution_count": 39,
   "id": "9431370c",
   "metadata": {},
   "outputs": [
    {
     "data": {
      "text/plain": [
       "Gender\n",
       "F    8734.565765\n",
       "M    9437.526040\n",
       "Name: Purchase, dtype: float64"
      ]
     },
     "execution_count": 39,
     "metadata": {},
     "output_type": "execute_result"
    }
   ],
   "source": [
    "data.groupby('Gender')['Purchase'].mean()"
   ]
  },
  {
   "cell_type": "code",
   "execution_count": 40,
   "id": "c6cc91f0",
   "metadata": {},
   "outputs": [],
   "source": [
    "# now divide male and female data based on there purchase:"
   ]
  },
  {
   "cell_type": "code",
   "execution_count": 41,
   "id": "e84c696c",
   "metadata": {},
   "outputs": [],
   "source": [
    "F_data = data.loc[data['Gender'] == 'F']['Purchase']\n",
    "M_data = data.loc[data['Gender'] == 'M']['Purchase']"
   ]
  },
  {
   "cell_type": "code",
   "execution_count": 42,
   "id": "284811f6",
   "metadata": {
    "scrolled": true
   },
   "outputs": [
    {
     "data": {
      "image/png": "[encoded data removed]",
      "text/plain": [
       "<Figure size 1008x288 with 1 Axes>"
      ]
     },
     "metadata": {
      "needs_background": "light"
     },
     "output_type": "display_data"
    }
   ],
   "source": [
    "plt.figure(figsize = (14, 4))\n",
    "sns.histplot(data=F_data).set(title='Female Vs Purchase')\n",
    "plt.show()"
   ]
  },
  {
   "cell_type": "code",
   "execution_count": 43,
   "id": "be1b9b2c",
   "metadata": {},
   "outputs": [
    {
     "data": {
      "image/png": "[encoded data removed]",
      "text/plain": [
       "<Figure size 1008x288 with 1 Axes>"
      ]
     },
     "metadata": {
      "needs_background": "light"
     },
     "output_type": "display_data"
    }
   ],
   "source": [
    "plt.figure(figsize = (14, 4))\n",
    "sns.histplot(data=M_data).set(title='Male Vs Purchase')\n",
    "plt.show()"
   ]
  },
  {
   "cell_type": "code",
   "execution_count": 44,
   "id": "f0d24ea8",
   "metadata": {},
   "outputs": [
    {
     "name": "stderr",
     "output_type": "stream",
     "text": [
      "/home/rahul/anaconda3/lib/python3.9/site-packages/seaborn/_decorators.py:36: FutureWarning: Pass the following variable as a keyword arg: x. From version 0.12, the only valid positional argument will be `data`, and passing other arguments without an explicit keyword will result in an error or misinterpretation.\n",
      "  warnings.warn(\n"
     ]
    },
    {
     "data": {
      "image/png": "[encoded data removed]",
      "text/plain": [
       "<Figure size 432x288 with 1 Axes>"
      ]
     },
     "metadata": {
      "needs_background": "light"
     },
     "output_type": "display_data"
    }
   ],
   "source": [
    "sns.countplot(data['Gender'])\n",
    "plt.show()"
   ]
  },
  {
   "cell_type": "markdown",
   "id": "0942b92d",
   "metadata": {},
   "source": [
    "you can see the dataset of Male and Female are unbalanced:\n",
    "\n",
    "for this resone i am going to take sample for hypothesis testing:"
   ]
  },
  {
   "cell_type": "code",
   "execution_count": 48,
   "id": "14537a0b",
   "metadata": {},
   "outputs": [],
   "source": [
    "female_d = data.loc[data['Gender'] == 'F']\n",
    "male_d = data.loc[data['Gender']=='M']\n",
    "female_d_sample = female_d.sample(n=100)\n",
    "male_d_sample = male_d.sample(n=100)\n",
    "combine_data = pd.concat([female_d_sample, male_d_sample])\n",
    "from sklearn.utils import shuffle\n",
    "df = shuffle(combine_data)"
   ]
  },
  {
   "cell_type": "code",
   "execution_count": 49,
   "id": "b3deba6a",
   "metadata": {},
   "outputs": [
    {
     "data": {
      "text/plain": [
       "Gender\n",
       "F    9059.07\n",
       "M    9116.16\n",
       "Name: Purchase, dtype: float64"
      ]
     },
     "execution_count": 49,
     "metadata": {},
     "output_type": "execute_result"
    }
   ],
   "source": [
    "df.groupby('Gender')['Purchase'].mean()"
   ]
  },
  {
   "cell_type": "code",
   "execution_count": 50,
   "id": "21a31cff",
   "metadata": {},
   "outputs": [],
   "source": [
    "F_data = df.loc[df['Gender'] == 'F']['Purchase']\n",
    "M_data = df.loc[df['Gender'] == 'M']['Purchase']"
   ]
  },
  {
   "cell_type": "code",
   "execution_count": 51,
   "id": "bb2db82c",
   "metadata": {},
   "outputs": [],
   "source": [
    "from scipy.stats import ttest_ind"
   ]
  },
  {
   "cell_type": "markdown",
   "id": "60406c74",
   "metadata": {},
   "source": [
    "by seen above dataset:\n",
    "\n",
    "1 - Ho: mean_of_Female = mean_of_Male\n",
    "\n",
    "2 - Ha:mean_of_Female < mean_of_Male\n"
   ]
  },
  {
   "cell_type": "markdown",
   "id": "d0be2dc5",
   "metadata": {},
   "source": [
    "for alpha 90% confidence interval:"
   ]
  },
  {
   "cell_type": "code",
   "execution_count": 52,
   "id": "27be7602",
   "metadata": {},
   "outputs": [
    {
     "name": "stdout",
     "output_type": "stream",
     "text": [
      "t-state : -0.08216764288929594\n",
      "p-value :  0.5327017965909137\n",
      "Failed to Reject Null Hypothesis Ho !\n"
     ]
    }
   ],
   "source": [
    "t_stats, p_value = ttest_ind(F_data, M_data, alternative=\"greater\")\n",
    "\n",
    "print(\"t-state :\", t_stats)\n",
    "print(\"p-value : \", p_value)\n",
    "\n",
    "alpha = 0.10\n",
    "\n",
    "if p_value < alpha:\n",
    "    print(\"Reject Null Hypothesis  Ho !\")\n",
    "    \n",
    "else:\n",
    "    print(\"Failed to Reject Null Hypothesis Ho !\")"
   ]
  },
  {
   "cell_type": "markdown",
   "id": "b5d1ad84",
   "metadata": {},
   "source": [
    "for alpha 95% confidence interval:"
   ]
  },
  {
   "cell_type": "code",
   "execution_count": 53,
   "id": "71d41ee3",
   "metadata": {},
   "outputs": [
    {
     "name": "stdout",
     "output_type": "stream",
     "text": [
      "t-state : -0.08216764288929594\n",
      "p-value :  0.5327017965909137\n",
      "Failed to Reject Null Hypothesis Ho !\n"
     ]
    }
   ],
   "source": [
    "t_stats, p_value = ttest_ind(F_data, M_data, alternative=\"greater\")\n",
    "\n",
    "print(\"t-state :\", t_stats)\n",
    "print(\"p-value : \", p_value)\n",
    "\n",
    "alpha = 0.05\n",
    "\n",
    "if p_value < alpha:\n",
    "    print(\"Reject Null Hypothesis  Ho !\")\n",
    "    \n",
    "else:\n",
    "    print(\"Failed to Reject Null Hypothesis Ho !\")"
   ]
  },
  {
   "cell_type": "markdown",
   "id": "7befe8b6",
   "metadata": {},
   "source": [
    "for alpha 99% confidence interval:"
   ]
  },
  {
   "cell_type": "code",
   "execution_count": 54,
   "id": "7e7658c4",
   "metadata": {},
   "outputs": [
    {
     "name": "stdout",
     "output_type": "stream",
     "text": [
      "t-state : -0.08216764288929594\n",
      "p-value :  0.5327017965909137\n",
      "Failed to Reject Null Hypothesis Ho !\n"
     ]
    }
   ],
   "source": [
    "t_stats, p_value = ttest_ind(F_data, M_data, alternative=\"greater\")\n",
    "\n",
    "print(\"t-state :\", t_stats)\n",
    "print(\"p-value : \", p_value)\n",
    "\n",
    "alpha = 0.01\n",
    "\n",
    "if p_value < alpha:\n",
    "    print(\"Reject Null Hypothesis  Ho !\")\n",
    "    \n",
    "else:\n",
    "    print(\"Failed to Reject Null Hypothesis Ho !\")"
   ]
  },
  {
   "cell_type": "markdown",
   "id": "a1e1721f",
   "metadata": {},
   "source": [
    "I am going to conclude that the women not spending more money per transaction than men !\n",
    "\n",
    "by using this hypothsis testing."
   ]
  },
  {
   "cell_type": "markdown",
   "id": "2fe53667",
   "metadata": {},
   "source": [
    "# Lets See which one (Married or Unmarried)  spending more money per transaction\n"
   ]
  },
  {
   "cell_type": "code",
   "execution_count": 55,
   "id": "b83f82c0",
   "metadata": {},
   "outputs": [
    {
     "name": "stderr",
     "output_type": "stream",
     "text": [
      "/home/rahul/anaconda3/lib/python3.9/site-packages/seaborn/_decorators.py:36: FutureWarning: Pass the following variable as a keyword arg: x. From version 0.12, the only valid positional argument will be `data`, and passing other arguments without an explicit keyword will result in an error or misinterpretation.\n",
      "  warnings.warn(\n"
     ]
    },
    {
     "data": {
      "image/png": "[encoded data removed]",
      "text/plain": [
       "<Figure size 432x288 with 1 Axes>"
      ]
     },
     "metadata": {
      "needs_background": "light"
     },
     "output_type": "display_data"
    }
   ],
   "source": [
    "sns.countplot(data['Marital_Status'])\n",
    "plt.show()"
   ]
  },
  {
   "cell_type": "markdown",
   "id": "b285bf82",
   "metadata": {},
   "source": [
    "now divide married and unmarried data based on there purchase:\n",
    "    \n",
    "due to unbalanced Marital_Status i am going to take sample and then perform hypothesis testing:"
   ]
  },
  {
   "cell_type": "code",
   "execution_count": 59,
   "id": "2c98eaea",
   "metadata": {},
   "outputs": [],
   "source": [
    "Unmarried_d = data.loc[data['Marital_Status'] == 0]\n",
    "married_d = data.loc[data['Marital_Status']==1]\n",
    "Unmarried_d_sample = Unmarried_d.sample(n=100)\n",
    "married_d_sample = married_d.sample(n=100)\n",
    "combine_data = pd.concat([Unmarried_d_sample, married_d_sample])\n",
    "from sklearn.utils import shuffle\n",
    "df = shuffle(combine_data)"
   ]
  },
  {
   "cell_type": "code",
   "execution_count": 60,
   "id": "44fe8a7e",
   "metadata": {},
   "outputs": [
    {
     "data": {
      "text/plain": [
       "Marital_Status\n",
       "0    9763.38\n",
       "1    8893.20\n",
       "Name: Purchase, dtype: float64"
      ]
     },
     "execution_count": 60,
     "metadata": {},
     "output_type": "execute_result"
    }
   ],
   "source": [
    "df.groupby('Marital_Status')['Purchase'].mean()"
   ]
  },
  {
   "cell_type": "code",
   "execution_count": 61,
   "id": "2bd9e87f",
   "metadata": {},
   "outputs": [],
   "source": [
    "Unmarried = df.loc[df['Marital_Status'] == 0]['Purchase']\n",
    "married = df.loc[df['Marital_Status'] == 1]['Purchase']"
   ]
  },
  {
   "cell_type": "markdown",
   "id": "5e58c574",
   "metadata": {},
   "source": [
    "by seen this above dataset:\n",
    "\n",
    "1 - Ho: mean_of_unmarried = mean_of_married\n",
    "\n",
    "2 - Ha: mean_of_unmarried > mean_of_married"
   ]
  },
  {
   "cell_type": "markdown",
   "id": "909b4523",
   "metadata": {},
   "source": [
    "for alpha 90% confidence interval"
   ]
  },
  {
   "cell_type": "code",
   "execution_count": 62,
   "id": "c574cb26",
   "metadata": {},
   "outputs": [
    {
     "name": "stdout",
     "output_type": "stream",
     "text": [
      "t-stats : 1.2063591683029586\n",
      "p-value : 0.11455923163975872\n",
      "Failed to Reject Null Hypothesis !\n"
     ]
    }
   ],
   "source": [
    "t_stats, p_value = ttest_ind(Unmarried, married, alternative=\"greater\")\n",
    "\n",
    "print(\"t-stats :\", t_stats)\n",
    "print(\"p-value :\", p_value)\n",
    "\n",
    "alpha = 0.10\n",
    "if p_value < alpha:\n",
    "    print(\"Reject Null Hypothesis Ho !\")\n",
    "else:\n",
    "    print(\"Failed to Reject Null Hypothesis !\")"
   ]
  },
  {
   "cell_type": "markdown",
   "id": "635075a6",
   "metadata": {},
   "source": [
    "for alpha = 95%:"
   ]
  },
  {
   "cell_type": "code",
   "execution_count": 63,
   "id": "a426b14a",
   "metadata": {},
   "outputs": [
    {
     "name": "stdout",
     "output_type": "stream",
     "text": [
      "t-stats : 1.2063591683029586\n",
      "p-value : 0.11455923163975872\n",
      "Failed to Reject Null Hypothesis !\n"
     ]
    }
   ],
   "source": [
    "t_stats, p_value = ttest_ind(Unmarried, married, alternative=\"greater\")\n",
    "\n",
    "print(\"t-stats :\", t_stats)\n",
    "print(\"p-value :\", p_value)\n",
    "\n",
    "alpha = 0.05\n",
    "\n",
    "if p_value < alpha:\n",
    "    print(\"Reject Null Hypothesis Ho !\")\n",
    "else:\n",
    "    print(\"Failed to Reject Null Hypothesis !\")\n"
   ]
  },
  {
   "cell_type": "markdown",
   "id": "67dd1925",
   "metadata": {},
   "source": [
    "for 99% confidence interval:\n",
    "    "
   ]
  },
  {
   "cell_type": "code",
   "execution_count": 64,
   "id": "f80ba0ce",
   "metadata": {},
   "outputs": [
    {
     "name": "stdout",
     "output_type": "stream",
     "text": [
      "t-stats : 1.2063591683029586\n",
      "p-value : 0.11455923163975872\n",
      "Failed to Reject Null Hypothesis !\n"
     ]
    }
   ],
   "source": [
    "t_stats, p_value = ttest_ind(Unmarried, married, alternative=\"greater\")\n",
    "\n",
    "print(\"t-stats :\", t_stats)\n",
    "print(\"p-value :\", p_value)\n",
    "\n",
    "alpha = 0.01\n",
    "\n",
    "if p_value < alpha:\n",
    "    print(\"Reject Null Hypothesis Ho !\")\n",
    "else:\n",
    "    print(\"Failed to Reject Null Hypothesis !\")"
   ]
  },
  {
   "cell_type": "markdown",
   "id": "19340800",
   "metadata": {},
   "source": [
    "I am going to conclude that unmarried person did more purchase than married people."
   ]
  },
  {
   "cell_type": "markdown",
   "id": "16d54a5d",
   "metadata": {},
   "source": [
    "# Age group comparision CLT with Purchase"
   ]
  },
  {
   "cell_type": "code",
   "execution_count": 67,
   "id": "edb23e0f",
   "metadata": {},
   "outputs": [],
   "source": [
    "age_18_25_d = data.loc[data['Age'] == '18-25']\n",
    "age_26_35_d = data.loc[data['Age']=='26-35']\n",
    "age_18_25_d_sample =age_18_25_d.sample(n=100)\n",
    "age_26_35_d_sample = age_26_35_d.sample(n=100)\n",
    "combine_data = pd.concat([age_18_25_d_sample, age_26_35_d_sample])\n",
    "from sklearn.utils import shuffle\n",
    "df = shuffle(combine_data)"
   ]
  },
  {
   "cell_type": "code",
   "execution_count": 68,
   "id": "2d764237",
   "metadata": {},
   "outputs": [
    {
     "data": {
      "text/plain": [
       "Age\n",
       "18-25    8879.94\n",
       "26-35    9430.80\n",
       "Name: Purchase, dtype: float64"
      ]
     },
     "execution_count": 68,
     "metadata": {},
     "output_type": "execute_result"
    }
   ],
   "source": [
    "df.groupby('Age')['Purchase'].mean()"
   ]
  },
  {
   "cell_type": "markdown",
   "id": "e140d8eb",
   "metadata": {},
   "source": [
    "For Age-group 18-25 and 26-35"
   ]
  },
  {
   "cell_type": "code",
   "execution_count": 69,
   "id": "219ae4aa",
   "metadata": {},
   "outputs": [],
   "source": [
    "age_18_25 = df.loc[df['Age'] == '18-25']['Purchase']"
   ]
  },
  {
   "cell_type": "code",
   "execution_count": 70,
   "id": "24d92449",
   "metadata": {},
   "outputs": [],
   "source": [
    "age_26_35 = df.loc[df['Age'] == '26-35']['Purchase']"
   ]
  },
  {
   "cell_type": "markdown",
   "id": "4a290790",
   "metadata": {},
   "source": [
    "for seen this data \n",
    "\n",
    "1 - Ho: mean_age_18_25 = mean_ age_26_35\n",
    "\n",
    "2 - Ha: mean_age_26_35 > mean_ age_18_25"
   ]
  },
  {
   "cell_type": "code",
   "execution_count": 71,
   "id": "b3c46ff7",
   "metadata": {},
   "outputs": [
    {
     "name": "stdout",
     "output_type": "stream",
     "text": [
      "t-stats : -0.7798059811910615\n",
      "p-value : 0.7817818885516419\n",
      "alpha :  0.1\n",
      "Failed to Reject Null Hypothesis !\n"
     ]
    }
   ],
   "source": [
    "t_stats, p_value = ttest_ind(age_18_25, age_26_35, alternative=\"greater\")\n",
    "\n",
    "print(\"t-stats :\", t_stats)\n",
    "print(\"p-value :\", p_value)\n",
    "\n",
    "alpha = 0.10\n",
    "print(\"alpha : \", alpha)\n",
    "if p_value < alpha:\n",
    "    print(\"Reject Null Hypothesis Ho !\")\n",
    "else:\n",
    "    print(\"Failed to Reject Null Hypothesis !\")"
   ]
  },
  {
   "cell_type": "code",
   "execution_count": 72,
   "id": "6edcbbff",
   "metadata": {},
   "outputs": [
    {
     "name": "stdout",
     "output_type": "stream",
     "text": [
      "t-stats : -0.7798059811910615\n",
      "p-value : 0.7817818885516419\n",
      "alpha :  0.05\n",
      "Failed to Reject Null Hypothesis !\n"
     ]
    }
   ],
   "source": [
    "t_stats, p_value = ttest_ind(age_18_25, age_26_35, alternative=\"greater\")\n",
    "\n",
    "print(\"t-stats :\", t_stats)\n",
    "print(\"p-value :\", p_value)\n",
    "\n",
    "alpha = 0.05\n",
    "print(\"alpha : \", alpha)\n",
    "if p_value < alpha:\n",
    "    print(\"Reject Null Hypothesis Ho !\")\n",
    "else:\n",
    "    print(\"Failed to Reject Null Hypothesis !\")"
   ]
  },
  {
   "cell_type": "code",
   "execution_count": 73,
   "id": "800ec072",
   "metadata": {},
   "outputs": [
    {
     "name": "stdout",
     "output_type": "stream",
     "text": [
      "t-stats : -0.7798059811910615\n",
      "p-value : 0.7817818885516419\n",
      "alpha :  0.01\n",
      "Failed to Reject Null Hypothesis !\n"
     ]
    }
   ],
   "source": [
    "t_stats, p_value = ttest_ind(age_18_25, age_26_35, alternative=\"greater\")\n",
    "\n",
    "print(\"t-stats :\", t_stats)\n",
    "print(\"p-value :\", p_value)\n",
    "\n",
    "alpha = 0.01\n",
    "print(\"alpha : \", alpha)\n",
    "if p_value < alpha:\n",
    "    print(\"Reject Null Hypothesis Ho !\")\n",
    "else:\n",
    "    print(\"Failed to Reject Null Hypothesis !\")"
   ]
  },
  {
   "cell_type": "markdown",
   "id": "f0fb9731",
   "metadata": {},
   "source": [
    "# After Doing Walmart-Data-Analysis Recommended"
   ]
  },
  {
   "cell_type": "markdown",
   "id": "42f32b2f",
   "metadata": {},
   "source": [
    "1 - Female are less Purchase than Male by doing hypothesis testing on every CLT 90, 95  and 99%.\n",
    "\n",
    "2 - Male are more Purhcase than Female.\n",
    "\n",
    "3 - Unmarried People Purchase than Married by hypothesis testing on every CLT 90, 95  and 99%.\n",
    "\n",
    "4 - Age group 18-25, is less purchase than age group 26-35. \n"
   ]
  },
  {
   "cell_type": "markdown",
   "id": "660cb3fa",
   "metadata": {},
   "source": []
  },
  {
   "cell_type": "code",
   "execution_count": null,
   "id": "4b6b91ae",
   "metadata": {},
   "outputs": [],
   "source": []
  }
 ],
 "metadata": {
  "kernelspec": {
   "display_name": "Python 3 (ipykernel)",
   "language": "python",
   "name": "python3"
  },
  "language_info": {
   "codemirror_mode": {
    "name": "ipython",
    "version": 3
   },
   "file_extension": ".py",
   "mimetype": "text/x-python",
   "name": "python",
   "nbconvert_exporter": "python",
   "pygments_lexer": "ipython3",
   "version": "3.9.12"
  }
 },
 "nbformat": 4,
 "nbformat_minor": 5
}
